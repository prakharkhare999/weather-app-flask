{
 "cells": [
  {
   "cell_type": "markdown",
   "metadata": {},
   "source": [
    "# melt"
   ]
  },
  {
   "cell_type": "code",
   "execution_count": 3,
   "metadata": {},
   "outputs": [
    {
     "name": "stdout",
     "output_type": "stream",
     "text": [
      "      Name  Subject  Marks\n",
      "0    Alice     Math     85\n",
      "1      Bob     Math     90\n",
      "2  Charlie     Math     78\n",
      "3    Alice  Science     88\n",
      "4      Bob  Science     92\n",
      "5  Charlie  Science     80\n",
      "6    Alice  English     82\n",
      "7      Bob  English     85\n",
      "8  Charlie  English     79\n"
     ]
    }
   ],
   "source": [
    "import pandas as pd\n",
    "\n",
    "# Sample DataFrame\n",
    "df = pd.DataFrame({\n",
    "    'Name': ['Alice', 'Bob', 'Charlie'],\n",
    "    'Math': [85, 90, 78],\n",
    "    'Science': [88, 92, 80],\n",
    "    'English': [82, 85, 79]\n",
    "})\n",
    "\n",
    "# Using melt: 'Name' is fixed, the rest of the columns are melted.\n",
    "melted_df = df.melt(id_vars=['Name'], var_name='Subject', value_name='Marks')\n",
    "\n",
    "print(melted_df)\n"
   ]
  },
  {
   "cell_type": "code",
   "execution_count": 12,
   "metadata": {},
   "outputs": [
    {
     "name": "stdout",
     "output_type": "stream",
     "text": [
      "   Student_ID     Name  Subject  Marks\n",
      "0         101    Alice     Math     85\n",
      "1         102      Bob     Math     90\n",
      "2         103  Charlie     Math     78\n",
      "3         101    Alice  Science     88\n",
      "4         102      Bob  Science     92\n",
      "5         103  Charlie  Science     80\n",
      "6         101    Alice  English     82\n",
      "7         102      Bob  English     85\n",
      "8         103  Charlie  English     79\n"
     ]
    }
   ],
   "source": [
    "df = pd.DataFrame({\n",
    "    'Student_ID': [101, 102, 103],\n",
    "    'Name': ['Alice', 'Bob', 'Charlie'],\n",
    "    'Math': [85, 90, 78],\n",
    "    'Science': [88, 92, 80],\n",
    "    'English': [82, 85, 79]\n",
    "})\n",
    "\n",
    "# Keeping both 'Student_ID' and 'Name' fixed.\n",
    "melted_df = df.melt(id_vars=['Student_ID', 'Name'], var_name='Subject', value_name='Marks')\n",
    "\n",
    "print(melted_df)\n"
   ]
  },
  {
   "cell_type": "code",
   "execution_count": 17,
   "metadata": {},
   "outputs": [
    {
     "name": "stdout",
     "output_type": "stream",
     "text": [
      "      Name  Subject  Marks\n",
      "0    Alice     Math     85\n",
      "1      Bob     Math     90\n",
      "2  Charlie     Math     78\n",
      "3    Alice  Science     88\n",
      "4      Bob  Science     92\n",
      "5  Charlie  Science     80\n"
     ]
    }
   ],
   "source": [
    "# Melting only 'Math' and 'Science', leaving 'English' unchanged.\n",
    "melted_df = df.melt(id_vars=['Name'], value_vars=['Math', 'Science'], var_name='Subject', value_name='Marks')\n",
    "\n",
    "print(melted_df)\n"
   ]
  },
  {
   "cell_type": "code",
   "execution_count": 14,
   "metadata": {},
   "outputs": [
    {
     "data": {
      "text/html": [
       "<div>\n",
       "<style scoped>\n",
       "    .dataframe tbody tr th:only-of-type {\n",
       "        vertical-align: middle;\n",
       "    }\n",
       "\n",
       "    .dataframe tbody tr th {\n",
       "        vertical-align: top;\n",
       "    }\n",
       "\n",
       "    .dataframe thead th {\n",
       "        text-align: right;\n",
       "    }\n",
       "</style>\n",
       "<table border=\"1\" class=\"dataframe\">\n",
       "  <thead>\n",
       "    <tr style=\"text-align: right;\">\n",
       "      <th></th>\n",
       "      <th>Student_ID</th>\n",
       "      <th>Name</th>\n",
       "      <th>Math</th>\n",
       "      <th>Science</th>\n",
       "      <th>English</th>\n",
       "    </tr>\n",
       "  </thead>\n",
       "  <tbody>\n",
       "    <tr>\n",
       "      <th>0</th>\n",
       "      <td>101</td>\n",
       "      <td>Alice</td>\n",
       "      <td>85</td>\n",
       "      <td>88</td>\n",
       "      <td>82</td>\n",
       "    </tr>\n",
       "    <tr>\n",
       "      <th>1</th>\n",
       "      <td>102</td>\n",
       "      <td>Bob</td>\n",
       "      <td>90</td>\n",
       "      <td>92</td>\n",
       "      <td>85</td>\n",
       "    </tr>\n",
       "    <tr>\n",
       "      <th>2</th>\n",
       "      <td>103</td>\n",
       "      <td>Charlie</td>\n",
       "      <td>78</td>\n",
       "      <td>80</td>\n",
       "      <td>79</td>\n",
       "    </tr>\n",
       "  </tbody>\n",
       "</table>\n",
       "</div>"
      ],
      "text/plain": [
       "   Student_ID     Name  Math  Science  English\n",
       "0         101    Alice    85       88       82\n",
       "1         102      Bob    90       92       85\n",
       "2         103  Charlie    78       80       79"
      ]
     },
     "execution_count": 14,
     "metadata": {},
     "output_type": "execute_result"
    }
   ],
   "source": [
    "df"
   ]
  },
  {
   "cell_type": "code",
   "execution_count": 18,
   "metadata": {},
   "outputs": [
    {
     "name": "stdout",
     "output_type": "stream",
     "text": [
      "  Region Product  Sales\n",
      "0  North       A    250\n",
      "1  North       B    150\n",
      "2  South       A    200\n",
      "3  South       B    300\n",
      "4   East       A    100\n",
      "5   East       B    400\n"
     ]
    }
   ],
   "source": [
    "import pandas as pd\n",
    "\n",
    "# Sample data\n",
    "data = {\n",
    "    'Region': ['North', 'North', 'South', 'South', 'East', 'East'],\n",
    "    'Product': ['A', 'B', 'A', 'B', 'A', 'B'],\n",
    "    'Sales': [250, 150, 200, 300, 100, 400]\n",
    "}\n",
    "\n",
    "df = pd.DataFrame(data)\n",
    "print(df)\n"
   ]
  },
  {
   "cell_type": "code",
   "execution_count": 19,
   "metadata": {},
   "outputs": [
    {
     "data": {
      "text/html": [
       "<div>\n",
       "<style scoped>\n",
       "    .dataframe tbody tr th:only-of-type {\n",
       "        vertical-align: middle;\n",
       "    }\n",
       "\n",
       "    .dataframe tbody tr th {\n",
       "        vertical-align: top;\n",
       "    }\n",
       "\n",
       "    .dataframe thead th {\n",
       "        text-align: right;\n",
       "    }\n",
       "</style>\n",
       "<table border=\"1\" class=\"dataframe\">\n",
       "  <thead>\n",
       "    <tr style=\"text-align: right;\">\n",
       "      <th></th>\n",
       "      <th>Region</th>\n",
       "      <th>Product</th>\n",
       "      <th>Sales</th>\n",
       "    </tr>\n",
       "  </thead>\n",
       "  <tbody>\n",
       "    <tr>\n",
       "      <th>0</th>\n",
       "      <td>North</td>\n",
       "      <td>A</td>\n",
       "      <td>250</td>\n",
       "    </tr>\n",
       "    <tr>\n",
       "      <th>1</th>\n",
       "      <td>North</td>\n",
       "      <td>B</td>\n",
       "      <td>150</td>\n",
       "    </tr>\n",
       "    <tr>\n",
       "      <th>2</th>\n",
       "      <td>South</td>\n",
       "      <td>A</td>\n",
       "      <td>200</td>\n",
       "    </tr>\n",
       "    <tr>\n",
       "      <th>3</th>\n",
       "      <td>South</td>\n",
       "      <td>B</td>\n",
       "      <td>300</td>\n",
       "    </tr>\n",
       "    <tr>\n",
       "      <th>4</th>\n",
       "      <td>East</td>\n",
       "      <td>A</td>\n",
       "      <td>100</td>\n",
       "    </tr>\n",
       "    <tr>\n",
       "      <th>5</th>\n",
       "      <td>East</td>\n",
       "      <td>B</td>\n",
       "      <td>400</td>\n",
       "    </tr>\n",
       "  </tbody>\n",
       "</table>\n",
       "</div>"
      ],
      "text/plain": [
       "  Region Product  Sales\n",
       "0  North       A    250\n",
       "1  North       B    150\n",
       "2  South       A    200\n",
       "3  South       B    300\n",
       "4   East       A    100\n",
       "5   East       B    400"
      ]
     },
     "execution_count": 19,
     "metadata": {},
     "output_type": "execute_result"
    }
   ],
   "source": [
    "df"
   ]
  },
  {
   "cell_type": "code",
   "execution_count": 20,
   "metadata": {},
   "outputs": [
    {
     "name": "stdout",
     "output_type": "stream",
     "text": [
      "Product      A      B\n",
      "Region               \n",
      "East     100.0  400.0\n",
      "North    250.0  150.0\n",
      "South    200.0  300.0\n"
     ]
    }
   ],
   "source": [
    "# Creating the pivot table\n",
    "pivot = pd.pivot_table(\n",
    "    df,\n",
    "    values='Sales',       # Data to aggregate\n",
    "    index='Region',       # Group by Region (rows)\n",
    "    columns='Product',    # Group by Product (columns)\n",
    "    aggfunc='mean'        # Aggregation function\n",
    ")\n",
    "\n",
    "print(pivot)\n"
   ]
  },
  {
   "cell_type": "code",
   "execution_count": 23,
   "metadata": {},
   "outputs": [
    {
     "name": "stdout",
     "output_type": "stream",
     "text": [
      "         min       max       sum        mean        median       \n",
      "Product    A    B    A    B    A    B      A      B      A      B\n",
      "Region                                                           \n",
      "East     100  400  100  400  100  400  100.0  400.0  100.0  400.0\n",
      "North    250  150  250  150  250  150  250.0  150.0  250.0  150.0\n",
      "South    200  300  200  300  200  300  200.0  300.0  200.0  300.0\n"
     ]
    }
   ],
   "source": [
    "pivot = pd.pivot_table(\n",
    "    df,\n",
    "    values='Sales',\n",
    "    index='Region',\n",
    "    columns='Product',\n",
    "    aggfunc=['min', 'max', 'sum','mean','median']\n",
    ")\n",
    "\n",
    "print(pivot)\n"
   ]
  },
  {
   "cell_type": "code",
   "execution_count": 24,
   "metadata": {},
   "outputs": [
    {
     "name": "stdout",
     "output_type": "stream",
     "text": [
      "Product    A    B\n",
      "Region           \n",
      "East     100  400\n",
      "North    250  150\n",
      "South    200  300\n"
     ]
    }
   ],
   "source": [
    "pivot = pd.pivot_table(\n",
    "    df,\n",
    "    values='Sales',\n",
    "    index='Region',\n",
    "    columns='Product',\n",
    "    aggfunc='sum',\n",
    "    fill_value=0  # Fill missing values with 0\n",
    ")\n",
    "\n",
    "print(pivot)\n"
   ]
  },
  {
   "cell_type": "code",
   "execution_count": 25,
   "metadata": {},
   "outputs": [
    {
     "name": "stdout",
     "output_type": "stream",
     "text": [
      "Product           A      B\n",
      "Region Month              \n",
      "East   Feb      NaN  400.0\n",
      "       Jan    100.0    NaN\n",
      "North  Feb      NaN  150.0\n",
      "       Jan    250.0    NaN\n",
      "South  Feb      NaN  300.0\n",
      "       Jan    200.0    NaN\n"
     ]
    }
   ],
   "source": [
    "data = {\n",
    "    'Region': ['North', 'North', 'South', 'South', 'East', 'East'],\n",
    "    'Month': ['Jan', 'Feb', 'Jan', 'Feb', 'Jan', 'Feb'],\n",
    "    'Product': ['A', 'B', 'A', 'B', 'A', 'B'],\n",
    "    'Sales': [250, 150, 200, 300, 100, 400]\n",
    "}\n",
    "df = pd.DataFrame(data)\n",
    "\n",
    "pivot = pd.pivot_table(\n",
    "    df,\n",
    "    values='Sales',\n",
    "    index=['Region', 'Month'],\n",
    "    columns='Product',\n",
    "    aggfunc='mean'\n",
    ")\n",
    "\n",
    "print(pivot)\n"
   ]
  },
  {
   "cell_type": "code",
   "execution_count": 1,
   "metadata": {},
   "outputs": [
    {
     "name": "stdout",
     "output_type": "stream",
     "text": [
      "Sample DataFrame:\n",
      "      Name  Age Department  Salary Joining_Date\n",
      "0    Alice   25         HR   50000   2020-01-15\n",
      "1      Bob   30    Finance   60000   2019-06-30\n",
      "2  Charlie   35         IT   70000   2018-09-23\n",
      "3    David   40  Marketing   80000   2021-02-10\n",
      "4      Eve   28    Finance   62000   2020-07-19\n"
     ]
    }
   ],
   "source": [
    "import pandas as pd\n",
    "import numpy as np\n",
    "\n",
    "# Create a sample dataset\n",
    "data = {\n",
    "    'Name': ['Alice', 'Bob', 'Charlie', 'David', 'Eve'],\n",
    "    'Age': [25, 30, 35, 40, 28],\n",
    "    'Department': ['HR', 'Finance', 'IT', 'Marketing', 'Finance'],\n",
    "    'Salary': [50000, 60000, 70000, 80000, 62000],\n",
    "    'Joining_Date': pd.to_datetime(['2020-01-15', '2019-06-30', '2018-09-23', '2021-02-10', '2020-07-19'])\n",
    "}\n",
    "\n",
    "# Create the DataFrame\n",
    "df = pd.DataFrame(data)\n",
    "\n",
    "# Display the first few rows\n",
    "print(\"Sample DataFrame:\")\n",
    "print(df.head())\n"
   ]
  },
  {
   "cell_type": "code",
   "execution_count": 8,
   "metadata": {},
   "outputs": [],
   "source": [
    "q1=df['Age'].quantile(0.25)\n",
    "q3=df['Age'].quantile(0.75)\n",
    "iqr = q3-q1\n",
    "lower_bound = q1-1.5*iqr \n",
    "upper_bound=q3+1.5*iqr \n",
    "# df['Salary'].plot(kind='box')\n",
    "median_values = df['Age'].median()\n",
    "df.loc[(df['Age']>upper_bound)|(df['Age']<lower_bound)] = median_values "
   ]
  },
  {
   "cell_type": "markdown",
   "metadata": {},
   "source": []
  }
 ],
 "metadata": {
  "kernelspec": {
   "display_name": "Python 3",
   "language": "python",
   "name": "python3"
  },
  "language_info": {
   "codemirror_mode": {
    "name": "ipython",
    "version": 3
   },
   "file_extension": ".py",
   "mimetype": "text/x-python",
   "name": "python",
   "nbconvert_exporter": "python",
   "pygments_lexer": "ipython3",
   "version": "3.12.0"
  }
 },
 "nbformat": 4,
 "nbformat_minor": 2
}
